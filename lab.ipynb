{
 "cells": [
  {
   "cell_type": "markdown",
   "metadata": {},
   "source": [
    "# Crack the Insulin Pump\n",
    "The provided data client will connect you to a insulin pump that accepts 4-digit PINs to allow debug access to the device. The pump takes the 4-digit PIN, compares it to the correct PIN using the `strcmp` (string compare) function, and returns the result (correct/incorrect). You also will be returned a trace showing the power consumption of the pump while it is performing the comparison.\n",
    "\n",
    "**Do the power traces reveal something about the PIN?**\n",
    "\n",
    "## Step 1: Prologue\n",
    "Just run this next cell once (click the cell and press the play button on the top bar or hit shift-enter) to import the interface to the pump and create an instance of it."
   ]
  },
  {
   "cell_type": "code",
   "execution_count": null,
   "metadata": {},
   "outputs": [],
   "source": [
    "from lab import Pump\n",
    "pump = Pump()"
   ]
  },
  {
   "cell_type": "markdown",
   "metadata": {},
   "source": [
    "## Step 2: Try PINs\n",
    "Now that we have a pump, we can start guessing PINs! Your first guess may take a bit to generate.\n",
    "\n",
    "The `enter` method will attempt to unlock the pump with the given PIN, collect the power trace, and plot it.\n",
    "\n",
    "**NOTE: The `%maplotlib widgit` line is needed in every cell for an interactive plot**"
   ]
  },
  {
   "cell_type": "code",
   "execution_count": null,
   "metadata": {},
   "outputs": [],
   "source": [
    "%matplotlib widget\n",
    "pump.enter('0000')"
   ]
  },
  {
   "cell_type": "markdown",
   "metadata": {},
   "source": [
    "Running `enter` multiple times in one block will attempt to enter debug mode on the pump multiple times and will plot the different power traces onto the same plot.\n",
    "\n",
    "By running the next cell, we can see that the device running this comparison operation results in a structured trace, where (presumably) different operations result in different amounts of power draw. We will be able to use this structure to infer the correctness of our key guesses by comparing traces of different PINs.\n",
    "\n",
    "\n",
    "**NOTE: Even though we enter the same PIN, there is still variability in the trace. This is expected in a real system, so trying PINs multiple times can help tell you which features are normal and which are random**"
   ]
  },
  {
   "cell_type": "code",
   "execution_count": null,
   "metadata": {},
   "outputs": [],
   "source": [
    "%matplotlib widget\n",
    "pump.enter('0000')\n",
    "pump.enter('0000')\n",
    "pump.enter('0000')"
   ]
  },
  {
   "cell_type": "markdown",
   "metadata": {},
   "source": [
    "By default, `enter` returns the entire, unmodified trace. You can use the buttons on the left of the plot to interract with the trace and zoom into areas of interest.\n",
    "\n",
    "We can smooth out the trace with the second argument `smooth`. Higher values cause more smoothing and value of 1 does nothing to the trace."
   ]
  },
  {
   "cell_type": "code",
   "execution_count": null,
   "metadata": {},
   "outputs": [],
   "source": [
    "%matplotlib widget\n",
    "pump.enter('0000', 1) # no smoothing; raw trace\n",
    "pump.enter('0000', 50)\n",
    "# ^ is equivalent to\n",
    "# pump.enter('0000', smooth=50)\n",
    "pump.enter('0000', 100)"
   ]
  },
  {
   "cell_type": "markdown",
   "metadata": {},
   "source": [
    "Additionally, once we eventually identify a time section of interest, we can crop to that section with the third argument `crop`."
   ]
  },
  {
   "cell_type": "code",
   "execution_count": null,
   "metadata": {},
   "outputs": [],
   "source": [
    "%matplotlib widget\n",
    "pump.enter('0000', crop=None) # no crop; full trace\n",
    "pump.enter('0000', crop=(100, 200))\n",
    "# ^ is equivalent to\n",
    "# pump.enter('0000', 1, (100, 200))\n",
    "pump.enter('0000', crop=(800, 1000))"
   ]
  },
  {
   "cell_type": "markdown",
   "metadata": {},
   "source": [
    "\n",
    "---\n",
    "## Your Turn!\n",
    "Now, using these steps, see if you can crack the PIN!\n",
    "\n",
    "**Brute-forcing is not allowed, will not actually work (due to technical mitigations on the Pump), and may result in banning of your source IP for this challenge.** If you’re attempting hundreds of PIN attempts then you’re doing it wrong and need to re-think your approach.\n",
    "\n",
    "Feel free to add more Python code cells to work with using the `+` button in the upper left. **Remember to start every cell that needs a plot with  `%matplotlib widget`**"
   ]
  },
  {
   "cell_type": "code",
   "execution_count": null,
   "metadata": {},
   "outputs": [],
   "source": [
    "%matplotlib widget\n",
    "\n"
   ]
  },
  {
   "cell_type": "markdown",
   "metadata": {},
   "source": [
    "---\n",
    "## Need a hint?\n",
    "Run each cell below to reveal another hint\n",
    "\n",
    "**NOTE:** Some details of the clues only apply to the basic difficulty challenge.\n",
    "\n",
    "## Hint 1"
   ]
  },
  {
   "cell_type": "code",
   "execution_count": null,
   "metadata": {},
   "outputs": [],
   "source": [
    "%load hints/hint1.py"
   ]
  },
  {
   "cell_type": "markdown",
   "metadata": {},
   "source": [
    "## Hint 2"
   ]
  },
  {
   "cell_type": "code",
   "execution_count": null,
   "metadata": {},
   "outputs": [],
   "source": [
    "%load hints/hint2.py"
   ]
  },
  {
   "cell_type": "markdown",
   "metadata": {},
   "source": [
    "## Hint 3"
   ]
  },
  {
   "cell_type": "code",
   "execution_count": null,
   "metadata": {},
   "outputs": [],
   "source": [
    "%load hints/hint3.py"
   ]
  },
  {
   "cell_type": "markdown",
   "metadata": {},
   "source": [
    "## Hint 4:"
   ]
  },
  {
   "cell_type": "code",
   "execution_count": null,
   "metadata": {},
   "outputs": [],
   "source": [
    "%load hints/hint4.py"
   ]
  },
  {
   "cell_type": "markdown",
   "metadata": {},
   "source": [
    "## Hint 5"
   ]
  },
  {
   "cell_type": "code",
   "execution_count": null,
   "metadata": {},
   "outputs": [],
   "source": [
    "%load hints/hint5.py"
   ]
  },
  {
   "cell_type": "markdown",
   "metadata": {},
   "source": [
    "## Hint 6"
   ]
  },
  {
   "cell_type": "code",
   "execution_count": null,
   "metadata": {},
   "outputs": [],
   "source": [
    "%load hints/hint6.py"
   ]
  },
  {
   "cell_type": "markdown",
   "metadata": {},
   "source": [
    "## Hint 7"
   ]
  },
  {
   "cell_type": "code",
   "execution_count": null,
   "metadata": {},
   "outputs": [],
   "source": [
    "%load hints/hint7.py"
   ]
  },
  {
   "cell_type": "markdown",
   "metadata": {},
   "source": [
    " "
   ]
  },
  {
   "cell_type": "markdown",
   "metadata": {},
   "source": [
    " "
   ]
  },
  {
   "cell_type": "markdown",
   "metadata": {},
   "source": [
    " "
   ]
  },
  {
   "cell_type": "markdown",
   "metadata": {},
   "source": [
    " \n",
    " \n",
    "\n",
    "(c) The MITRE Corporation 2023. All rights reserved."
   ]
  }
 ],
 "metadata": {
  "kernelspec": {
   "display_name": "Python 3",
   "language": "python",
   "name": "python3"
  },
  "language_info": {
   "codemirror_mode": {
    "name": "ipython",
    "version": 3
   },
   "file_extension": ".py",
   "mimetype": "text/x-python",
   "name": "python",
   "nbconvert_exporter": "python",
   "pygments_lexer": "ipython3",
   "version": "3.8.5"
  }
 },
 "nbformat": 4,
 "nbformat_minor": 4
}
